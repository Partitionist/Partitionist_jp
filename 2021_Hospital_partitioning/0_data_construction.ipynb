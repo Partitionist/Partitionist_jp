{
 "cells": [
  {
   "cell_type": "markdown",
   "id": "median-reputation",
   "metadata": {},
   "source": [
    "# 病院分布データを作成\n",
    "\n",
    "- 元データ：https://kouseikyoku.mhlw.go.jp/kantoshinetsu/chousa/shitei.html\n",
    "\n",
    "`081shitei_ika_ibaraki_r0309.xlsx`は、上記URLから取得したPDFをExcelに変換したもの。Githubには置いていません。"
   ]
  },
  {
   "cell_type": "code",
   "execution_count": null,
   "id": "solar-answer",
   "metadata": {},
   "outputs": [],
   "source": [
    "import numpy as np\n",
    "import pandas as pd\n",
    "\n",
    "prefecture = 'ibaraki'\n",
    "df = pd.read_excel('dataset/ibaraki/081shitei_ika_ibaraki_r0309.xlsx', index_col=0)"
   ]
  },
  {
   "cell_type": "code",
   "execution_count": null,
   "id": "practical-rwanda",
   "metadata": {},
   "outputs": [],
   "source": [
    "### 郵便番号から緯度経度\n",
    "import requests\n",
    "import json\n",
    "import time\n",
    "\n",
    "def zipcode_to_loc(zipcode):\n",
    "    url = 'http://geoapi.heartrails.com/api/json'\n",
    "    payload = {'method':'searchByPostal'}\n",
    "    payload['postal']= zipcode\n",
    "\n",
    "    time.sleep(3)\n",
    "    \n",
    "    if 'location' in requests.get(url, params=payload).json()['response']:\n",
    "        res = requests.get(url, params=payload).json()['response']['location'][0]\n",
    "        return res['y'], res['x']\n",
    "    else:\n",
    "        return ('0','0')\n",
    "    "
   ]
  },
  {
   "cell_type": "code",
   "execution_count": null,
   "id": "whole-motivation",
   "metadata": {},
   "outputs": [],
   "source": [
    "# ちゃんと動いているか確認する用\n",
    "# df = df.head(10).copy()"
   ]
  },
  {
   "cell_type": "code",
   "execution_count": null,
   "id": "split-rapid",
   "metadata": {},
   "outputs": [],
   "source": [
    "df_locations = pd.DataFrame( columns=['name','postal_code','latitude','longitude','num_doctors'] )\n",
    "cnt = 0\n",
    "for i,r in df.iterrows():\n",
    "    r_member = r['電話番号\\n／ 勤務医数']\n",
    "    if pd.isnull(r_member) == False:\n",
    "        if len(r_member.split('\\n')) > 1:\n",
    "            if r_member.split('\\n')[1][-1] != '数':\n",
    "                if r_member.split('\\n')[1][-1] == ')':\n",
    "                    num_doctors = int(r_member.split('\\n')[1][-2])\n",
    "                else:\n",
    "                    num_doctors = int(r_member.split('\\n')[1][-1])\n",
    "    \n",
    "                if num_doctors > 0:\n",
    "                    name = r['医 療 機 関 名 称']\n",
    "                    location = r['医療機関所在地']\n",
    "                    if \"\\n\" in str(location):\n",
    "                        location_arr = location.split('\\n')\n",
    "                        zipcode = location_arr[0][1:]\n",
    "                        zipcode = zipcode.translate(str.maketrans({chr(0xFF01 + i): chr(0x21 + i) for i in range(94)}))\n",
    "                        loc = zipcode_to_loc(zipcode)\n",
    "                        tmp_se = pd.Series( [ name, zipcode, float(loc[0]), float(loc[1]), num_doctors ], index=df_locations.columns )\n",
    "                        df_locations = df_locations.append( tmp_se, ignore_index=True )\n",
    "                        cnt += 1\n",
    "                        print(cnt)\n"
   ]
  },
  {
   "cell_type": "code",
   "execution_count": null,
   "id": "impaired-vehicle",
   "metadata": {},
   "outputs": [],
   "source": [
    "df_locations = df_locations[~(df_locations['latitude'] == 0)].copy()\n",
    "df_locations"
   ]
  },
  {
   "cell_type": "code",
   "execution_count": null,
   "id": "worst-netscape",
   "metadata": {},
   "outputs": [],
   "source": [
    "df_locations.to_excel('dataset/'+prefecture+'/hospitals_'+prefecture+'.xlsx')"
   ]
  },
  {
   "cell_type": "markdown",
   "id": "thirty-background",
   "metadata": {},
   "source": [
    "# Generate a map"
   ]
  },
  {
   "cell_type": "code",
   "execution_count": null,
   "id": "stock-sweden",
   "metadata": {},
   "outputs": [],
   "source": [
    "import folium\n",
    " \n",
    "map = folium.Map(location=[36.375394,140.477223], zoom_start=14)\n",
    "\n",
    "for i, r in df_locations.iterrows():\n",
    "    folium.Marker(location=[r['latitude'], r['longitude']], popup=r['name']).add_to(map)\n",
    "    \n",
    "map.save(\"results/\"+prefecture+\"/map_hospitals_\"+prefecture+\".html\")"
   ]
  },
  {
   "cell_type": "code",
   "execution_count": null,
   "id": "pediatric-holly",
   "metadata": {},
   "outputs": [],
   "source": []
  },
  {
   "cell_type": "code",
   "execution_count": null,
   "id": "supposed-phrase",
   "metadata": {},
   "outputs": [],
   "source": []
  }
 ],
 "metadata": {
  "kernelspec": {
   "display_name": "python3.9",
   "language": "python",
   "name": "python3"
  },
  "language_info": {
   "codemirror_mode": {
    "name": "ipython",
    "version": 3
   },
   "file_extension": ".py",
   "mimetype": "text/x-python",
   "name": "python",
   "nbconvert_exporter": "python",
   "pygments_lexer": "ipython3",
   "version": "3.9.1"
  },
  "toc": {
   "base_numbering": 1,
   "nav_menu": {},
   "number_sections": true,
   "sideBar": true,
   "skip_h1_title": false,
   "title_cell": "Table of Contents",
   "title_sidebar": "Contents",
   "toc_cell": false,
   "toc_position": {},
   "toc_section_display": true,
   "toc_window_display": false
  }
 },
 "nbformat": 4,
 "nbformat_minor": 5
}
