{
 "cells": [
  {
   "cell_type": "markdown",
   "id": "persistent-appearance",
   "metadata": {},
   "source": [
    "# 統合された病院までの平均距離\n",
    "\n",
    "- こちらも、病院数（グループ数）を決定するうえでの参照データとして作成\n",
    "- かなり愚直に計算しているので、効率的ではありません"
   ]
  },
  {
   "cell_type": "code",
   "execution_count": null,
   "id": "adequate-elite",
   "metadata": {},
   "outputs": [],
   "source": [
    "import numpy as np\n",
    "import pandas as pd\n",
    "import matplotlib.pyplot as plt\n",
    "import seaborn as sns\n",
    "\n",
    "from sklearn.cluster import KMeans\n",
    "from sklearn.cluster import AgglomerativeClustering\n",
    "\n",
    "prefecture = 'ibaraki'\n",
    "df = pd.read_excel('dataset/'+prefecture+'/hospitals_'+prefecture+'.xlsx', index_col=0)\n",
    "X = df[['latitude','longitude']].to_numpy()\n",
    "\n",
    "df_density = pd.read_excel('dataset/'+prefecture+'/human_density_'+prefecture+'.xlsx', index_col=0)\n",
    "\n",
    "n_clusters_list = np.arange(10,100,4, dtype=int)"
   ]
  },
  {
   "cell_type": "code",
   "execution_count": null,
   "id": "chicken-cleveland",
   "metadata": {},
   "outputs": [],
   "source": [
    "def min_distance(Y_CODE, X_CODE):\n",
    "    d_min = 1000000\n",
    "    for i, row in df_hospitals_merged.iterrows():\n",
    "        y = row['latitude']\n",
    "        x = row['longitude']\n",
    "        distance = np.sqrt((Y_CODE-y)**2 + (X_CODE-x)**2)\n",
    "        if distance < d_min:\n",
    "            d_min = distance\n",
    "    return d_min\n"
   ]
  },
  {
   "cell_type": "code",
   "execution_count": null,
   "id": "powerful-redhead",
   "metadata": {},
   "outputs": [],
   "source": [
    "df_kmeans = pd.DataFrame( columns=['n_clusters','mean_distance'] )\n",
    "df_ward = pd.DataFrame( columns=['n_clusters','mean_distance'] )\n",
    "\n",
    "for n_clusters in n_clusters_list:\n",
    "    print(n_clusters)\n",
    "\n",
    "    # k-means\n",
    "    df_ = df.copy()\n",
    "    kmeans = KMeans(n_clusters=n_clusters, random_state=0).fit(X)\n",
    "    labels = kmeans.labels_\n",
    "    df_['kmeans_label'] = [str(label) for label in labels]\n",
    "\n",
    "    ## Merged hospitals\n",
    "    df_hospitals_merged = pd.DataFrame( columns=['name','postal_code','latitude','longitude','num_doctors'] )\n",
    "    for i, df_part in df_.groupby(['kmeans_label']):\n",
    "        tmp_se = df_part[df_part['num_doctors']==df_part['num_doctors'].max()][0:1]\n",
    "        df_hospitals_merged = df_hospitals_merged.append( tmp_se, ignore_index=True )\n",
    "        \n",
    "    ## mean_distance\n",
    "    mean_distance = 0\n",
    "    for i, row in df_density.iterrows():\n",
    "        mean_distance += row['POP_DENSITY']*min_distance(row['Y_CODE'], row['X_CODE'])\n",
    "    mean_distance = mean_distance/df_density['POP_DENSITY'].sum()    \n",
    "    tmp_se = pd.Series( [ n_clusters, mean_distance ], index=df_kmeans.columns )\n",
    "    df_kmeans = df_kmeans.append( tmp_se, ignore_index=True )\n",
    "    \n",
    "    #----------------------------------\n",
    "        \n",
    "    # Ward algorithm\n",
    "    df_ = df.copy()\n",
    "    clustering = AgglomerativeClustering(n_clusters=n_clusters).fit(X)\n",
    "    labels = clustering.labels_\n",
    "    df_['Ward_label'] = [str(label) for label in labels]\n",
    "\n",
    "    ## Merged hospitals\n",
    "    df_hospitals_merged = pd.DataFrame( columns=['name','postal_code','latitude','longitude','num_doctors'] )\n",
    "    for i, df_part in df_.groupby(['Ward_label']):\n",
    "        tmp_se = df_part[df_part['num_doctors']==df_part['num_doctors'].max()][0:1]\n",
    "        df_hospitals_merged = df_hospitals_merged.append( tmp_se, ignore_index=True )\n",
    "        \n",
    "    ## mean_distance\n",
    "    mean_distance = 0\n",
    "    for i, row in df_density.iterrows():\n",
    "        mean_distance += row['POP_DENSITY']*min_distance(row['Y_CODE'], row['X_CODE'])\n",
    "    mean_distance = mean_distance/df_density['POP_DENSITY'].sum()    \n",
    "    tmp_se = pd.Series( [ n_clusters, mean_distance ], index=df_ward.columns )\n",
    "    df_ward = df_ward.append( tmp_se, ignore_index=True )\n",
    "        \n"
   ]
  },
  {
   "cell_type": "code",
   "execution_count": null,
   "id": "diverse-patient",
   "metadata": {},
   "outputs": [],
   "source": [
    "plt.rcParams['font.family'] = 'IPAGothic'\n",
    "fig, ax = plt.subplots(figsize=(3,2))\n",
    "\n",
    "sns.scatterplot(data=df_kmeans, x=\"n_clusters\", y=\"mean_distance\", color=\"tomato\", marker='o', label=\"K-means\")\n",
    "sns.scatterplot(data=df_ward, x=\"n_clusters\", y=\"mean_distance\", color=\"royalblue\", marker='X', label=\"Ward\")\n",
    "\n",
    "plt.title(\"茨城県\")\n",
    "plt.legend(bbox_to_anchor=(1, 1), loc='upper right', fontsize=9)\n",
    "ax.set_xlabel('病院数')\n",
    "ax.set_ylabel('平均距離')\n",
    "plt.tight_layout()\n",
    "plt.savefig('results/'+prefecture+'/'+prefecture+'_mean_distance.pdf')"
   ]
  },
  {
   "cell_type": "code",
   "execution_count": null,
   "id": "interpreted-surfing",
   "metadata": {},
   "outputs": [],
   "source": []
  }
 ],
 "metadata": {
  "kernelspec": {
   "display_name": "python3.9",
   "language": "python",
   "name": "python3"
  },
  "language_info": {
   "codemirror_mode": {
    "name": "ipython",
    "version": 3
   },
   "file_extension": ".py",
   "mimetype": "text/x-python",
   "name": "python",
   "nbconvert_exporter": "python",
   "pygments_lexer": "ipython3",
   "version": "3.9.1"
  },
  "toc": {
   "base_numbering": 1,
   "nav_menu": {},
   "number_sections": true,
   "sideBar": true,
   "skip_h1_title": false,
   "title_cell": "Table of Contents",
   "title_sidebar": "Contents",
   "toc_cell": false,
   "toc_position": {},
   "toc_section_display": true,
   "toc_window_display": false
  }
 },
 "nbformat": 4,
 "nbformat_minor": 5
}
